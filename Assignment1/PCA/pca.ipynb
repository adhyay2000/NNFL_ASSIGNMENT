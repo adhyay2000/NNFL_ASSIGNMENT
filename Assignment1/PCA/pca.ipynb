{
 "cells": [
  {
   "cell_type": "markdown",
   "metadata": {
    "deletable": false,
    "editable": false,
    "nbgrader": {
     "cell_type": "markdown",
     "checksum": "9c0cd22af44e289087ce960aafd76dbe",
     "grade": false,
     "grade_id": "cell-9fc7db9f36897a2c",
     "locked": true,
     "schema_version": 3,
     "solution": false
    }
   },
   "source": [
    "# Assignment 1 \n",
    "### Neural Networks and Fuzzy Logic (2nd Semester 2019-2020)\n",
    "\n",
    "### Instructions:\n",
    "This assignment is designed to check your understanding of linear algebra, assuming you have basic knowlegde of Linear Algebra, this assignment will introudce you to some high level tasks in Linear Algebra, and what's the fun part about it? You'll be implemnting those concepts and visualizing them!! So Let's start.\n",
    "\n",
    "#### Key Concepts: Matrix Inverse, Linear Transforms, Eigendecomposition and all the interesting stuff Linear Algebra has :)\n",
    "\n",
    "##### Please make sure you adhere to the policy of originality of your work, the assignment should reflect your understanding and should be your original, cases of plagiarism will be strictly dealt with as per institute norms. The penalties can include debarrment from the course and registration for the next semester.\n",
    "\n",
    "# Matrices as linear transformations\n",
    "\n",
    "Matrices can be viewed as linear transformations you 'apply' to vectors. Some matrices will rotate your space, others will rescale it etc. So when we apply a matrix to a vector, we end up with a transformed version of the vector. When we say that we 'apply' the matrix to the vector it means that we calculate the dot product of the matrix with the vector. We will start with a basic example of this kind of transformation."
   ]
  },
  {
   "cell_type": "code",
   "execution_count": 35,
   "metadata": {
    "deletable": false,
    "editable": false,
    "nbgrader": {
     "cell_type": "code",
     "checksum": "1d07f7cc18d1b9111ddfce76625d7654",
     "grade": false,
     "grade_id": "cell-19c0e98f3e95828d",
     "locked": true,
     "schema_version": 3,
     "solution": false
    }
   },
   "outputs": [],
   "source": [
    "#No other imports are allowed !!!\n",
    "import numpy as np\n",
    "import matplotlib.pyplot as plt\n",
    "import pandas as pd"
   ]
  },
  {
   "cell_type": "code",
   "execution_count": 36,
   "metadata": {
    "deletable": false,
    "editable": false,
    "nbgrader": {
     "cell_type": "code",
     "checksum": "0cddbe74f372f23be7efbc343bbc7e0e",
     "grade": false,
     "grade_id": "cell-b9af1226de0620a9",
     "locked": true,
     "schema_version": 3,
     "solution": false
    }
   },
   "outputs": [],
   "source": [
    "#utility function, please don't alter this\n",
    "def plot_vectors(vectors, cols, alpha=1):\n",
    "    \"\"\"\n",
    "    Plot set of vectors.\n",
    "    Parameters\n",
    "    ----------\n",
    "    vectors : array-like\n",
    "        Coordinates of the vectors to plot. Each vectors is in an array. For\n",
    "        instance: [[1, 3], [2, 2]] can be used to plot 2 vectors.\n",
    "    cols : array-like\n",
    "        Colors of the vectors. For instance: ['green', 'red'] will display the\n",
    "        first vector in green and the second in red.\n",
    "    alpha : float\n",
    "        Opacity of vectors\n",
    "    Returns:\n",
    "    fig : instance of matplotlib.figure.Figure\n",
    "        The figure of the vectors\n",
    "    \"\"\"\n",
    "    plt.axvline(x=0, color='#A9A9A9', zorder=0)\n",
    "    plt.axhline(y=0, color='#A9A9A9', zorder=0)\n",
    "\n",
    "    for i in range(len(vectors)):\n",
    "        if (isinstance(alpha, list)):\n",
    "            alpha_i = alpha[i]\n",
    "        else:\n",
    "            alpha_i = alpha\n",
    "        x = np.concatenate([[0,0],vectors[i]])\n",
    "        plt.quiver([x[0]],\n",
    "                   [x[1]],\n",
    "                   [x[2]],\n",
    "                   [x[3]],\n",
    "                   angles='xy', scale_units='xy', scale=1, color=cols[i],\n",
    "                  alpha=alpha_i)"
   ]
  },
  {
   "cell_type": "code",
   "execution_count": 37,
   "metadata": {
    "deletable": false,
    "editable": false,
    "nbgrader": {
     "cell_type": "code",
     "checksum": "c819583966262a1a3f13e8cbc47754a0",
     "grade": false,
     "grade_id": "cell-ce702182a2c41123",
     "locked": true,
     "schema_version": 3,
     "solution": false
    }
   },
   "outputs": [
    {
     "name": "stdout",
     "output_type": "stream",
     "text": [
      "[[1 3]\n",
      " [2 6]]\n",
      "(2, 2)\n"
     ]
    }
   ],
   "source": [
    "A = np.array([[1, 3], [2, 6]])\n",
    "print(A)\n",
    "print(A.shape)"
   ]
  },
  {
   "cell_type": "code",
   "execution_count": 38,
   "metadata": {
    "deletable": false,
    "editable": false,
    "nbgrader": {
     "cell_type": "code",
     "checksum": "a59a44ea2e8fbd374c9653f42715e8d5",
     "grade": false,
     "grade_id": "cell-1f315bf803194fcb",
     "locked": true,
     "schema_version": 3,
     "solution": false
    }
   },
   "outputs": [
    {
     "name": "stdout",
     "output_type": "stream",
     "text": [
      "[[5]\n",
      " [3]]\n",
      "(2, 1)\n"
     ]
    }
   ],
   "source": [
    "v = np.array([[5], [3]])\n",
    "print(v)\n",
    "print(v.shape)"
   ]
  },
  {
   "cell_type": "code",
   "execution_count": 39,
   "metadata": {
    "deletable": false,
    "editable": false,
    "nbgrader": {
     "cell_type": "code",
     "checksum": "477effa793e0ba82f9fd5d2d6ae3b56b",
     "grade": false,
     "grade_id": "cell-3984d8d6d889d8c6",
     "locked": true,
     "schema_version": 3,
     "solution": false
    }
   },
   "outputs": [
    {
     "data": {
      "image/png": "[encoded data removed]",
      "text/plain": [
       "<Figure size 432x288 with 1 Axes>"
      ]
     },
     "metadata": {
      "needs_background": "light"
     },
     "output_type": "display_data"
    }
   ],
   "source": [
    "plot_vectors([v.flatten()],['red'])\n",
    "plt.ylim(0, 6)\n",
    "plt.xlim(0, 6)\n",
    "plt.show()"
   ]
  },
  {
   "cell_type": "markdown",
   "metadata": {
    "deletable": false,
    "editable": false,
    "nbgrader": {
     "cell_type": "markdown",
     "checksum": "474c75330b748794e91590322b2ff288",
     "grade": false,
     "grade_id": "cell-58de14d42535ed42",
     "locked": true,
     "schema_version": 3,
     "solution": false
    }
   },
   "source": [
    "**Inline Question**: did you see that v is flattened before plotting? why do we need to do that? Check out the code for plot_vectors and try to answer this? <br>"
   ]
  },
  {
   "cell_type": "markdown",
   "metadata": {
    "deletable": false,
    "nbgrader": {
     "cell_type": "markdown",
     "checksum": "d8dad74210d6810270db64592d74a25c",
     "grade": true,
     "grade_id": "cell-89c617592276dccd",
     "locked": false,
     "points": 1,
     "schema_version": 3,
     "solution": true
    }
   },
   "source": [
    "Here, if we hadn't flattened the v before plotting then it plot_vectors would be treating it like two vectors instead of one and would subsequently give out_of_bound error."
   ]
  },
  {
   "cell_type": "code",
   "execution_count": 40,
   "metadata": {
    "deletable": false,
    "nbgrader": {
     "cell_type": "code",
     "checksum": "92a21b3ae6b8f0049ba006b0584a9995",
     "grade": false,
     "grade_id": "cell-8c70805160037e04",
     "locked": false,
     "schema_version": 3,
     "solution": true
    }
   },
   "outputs": [],
   "source": [
    "def apply_linear_transform(A,v):\n",
    "    '''\n",
    "    Apply the linear transformation on v by a matrix A\n",
    "    return the transformed matrix (Av)\n",
    "    '''\n",
    "    if(A.shape[1]!=v.shape[0]):\n",
    "        print(\"Size incompatible\")\n",
    "    ret = np.dot(A,v)\n",
    "    return ret"
   ]
  },
  {
   "cell_type": "code",
   "execution_count": 7,
   "metadata": {
    "deletable": false,
    "editable": false,
    "nbgrader": {
     "cell_type": "code",
     "checksum": "db6fa04b7549337874847724f11a2dd0",
     "grade": true,
     "grade_id": "cell-4f7d4f29ea739491",
     "locked": true,
     "points": 1,
     "schema_version": 3,
     "solution": false
    }
   },
   "outputs": [],
   "source": [
    "#DO NOT ALTER THIS CELL\n",
    "#HIDDEN TEST CASES FOR apply_linear_transform"
   ]
  },
  {
   "cell_type": "code",
   "execution_count": 8,
   "metadata": {
    "deletable": false,
    "editable": false,
    "nbgrader": {
     "cell_type": "code",
     "checksum": "0d64be830d279d216325e00eca6c52bd",
     "grade": false,
     "grade_id": "cell-3caec98ae0f9b128",
     "locked": true,
     "schema_version": 3,
     "solution": false,
     "task": false
    }
   },
   "outputs": [
    {
     "data": {
      "image/png": "[encoded data removed]",
      "text/plain": [
       "<Figure size 432x288 with 1 Axes>"
      ]
     },
     "metadata": {
      "needs_background": "light"
     },
     "output_type": "display_data"
    }
   ],
   "source": [
    "\n",
    "# Let us visualize the transformation on vector v by a matrix A as mentioned above\n",
    "transformed_vector = apply_linear_transform(A,v)\n",
    "plot_vectors([v.flatten(), transformed_vector.flatten()],cols=['red','green'])\n",
    "plt.ylim(0, 6)\n",
    "plt.xlim(0, 6)\n",
    "plt.show()"
   ]
  },
  {
   "cell_type": "markdown",
   "metadata": {
    "deletable": false,
    "editable": false,
    "nbgrader": {
     "cell_type": "markdown",
     "checksum": "8bf816abe41fec75935c39a77031a575",
     "grade": false,
     "grade_id": "cell-90ab2f47fb9ba388",
     "locked": true,
     "schema_version": 3,
     "solution": false
    }
   },
   "source": [
    "## Eigendecomposition\n",
    "\n",
    "We have seen an example of a vector transformed by a matrix. Now imagine that the transformation of the initial vector gives us a new vector that has the exact same direction. The scale can be different but the direction is the same. Applying the matrix didn't change the direction of the vector. This special vector is called an eigenvector of the matrix. We will see that finding the eigenvectors of a matrix can be very useful.\n",
    "\n",
    "<span class='pquote'>\n",
    "    Imagine that the transformation of the initial vector by the matrix gives a new vector with the exact same direction. This vector is called an eigenvector of ${A}$.\n",
    "</span>\n",
    "\n",
    "This means that ${v}$ is a eigenvector of ${A}$ if ${v}$ and ${Av}$ are in the same direction or to rephrase it if the vectors ${Av}$ and ${v}$ are parallel. The output vector is just a scaled version of the input vector. This scalling factor is $\\lambda$ which is called the **eigenvalue** of ${A}$.\n",
    "\n",
    "$$\n",
    "{Av} = \\lambda{v}\n",
    "$$\n",
    "\n",
    "Talking in terms of eigen values and eigen vector the eigen decomposition of a matrix looks like the following:\n",
    "\n",
    "$$\n",
    "{A}= {V}\\cdot{diag}({\\lambda})\\cdot{V}^{-1}\n",
    "$$\n",
    "\n",
    "We will also verify this property of eigendecomposition.\n",
    "\n",
    "Eigen decomposition is a crucial step for PCA (introduced later)\n",
    "\n",
    "Let's begin!!"
   ]
  },
  {
   "cell_type": "code",
   "execution_count": 9,
   "metadata": {
    "deletable": false,
    "nbgrader": {
     "cell_type": "code",
     "checksum": "d3bedacf3ed72bf09f17f3529adc7206",
     "grade": false,
     "grade_id": "cell-947cfea731ce6537",
     "locked": false,
     "schema_version": 3,
     "solution": true
    }
   },
   "outputs": [],
   "source": [
    "def find_eigen_decomposition(matrix):\n",
    "    '''\n",
    "    use numpy to find the eigen decomposition of the matrix\n",
    "    returns eigenValues and the eigenVectors\n",
    "    '''\n",
    "    ret =  np.linalg.eig(matrix)\n",
    "    return ret\n",
    "#     raise NotImplementedError()"
   ]
  },
  {
   "cell_type": "code",
   "execution_count": 10,
   "metadata": {
    "deletable": false,
    "editable": false,
    "nbgrader": {
     "cell_type": "code",
     "checksum": "1bd343f66f632c973e45c91594cd6c95",
     "grade": true,
     "grade_id": "cell-9e1377220b4336dd",
     "locked": true,
     "points": 1,
     "schema_version": 3,
     "solution": false
    }
   },
   "outputs": [],
   "source": [
    "#DO NOT ALTER THIS CELL\n",
    "#HIDDEN TEST CASES FOR find_eigen_decomposition\n"
   ]
  },
  {
   "cell_type": "code",
   "execution_count": 11,
   "metadata": {
    "deletable": false,
    "nbgrader": {
     "cell_type": "code",
     "checksum": "21a973dfa18f0e2f341a643bfe075f36",
     "grade": false,
     "grade_id": "cell-b7f2c7683aef8586",
     "locked": false,
     "schema_version": 3,
     "solution": true
    }
   },
   "outputs": [],
   "source": [
    "def verify_eigen_decomposition(eigen_values,eigen_vectors):\n",
    "    \n",
    "    '''\n",
    "    verify the eigen decomposition property of matrix\n",
    "    return the recontsructed matrix using the property of eigen vectors and eigenvalues\n",
    "    '''\n",
    "    diag_lambda = np.diag(eigen_values)\n",
    "    print(diag_lambda)\n",
    "    V = eigen_vectors\n",
    "    print(V)\n",
    "    V_inv = np.linalg.inv(eigen_vectors)\n",
    "    print(V_inv)\n",
    "    ret = np.dot(np.dot(V,diag_lambda),V_inv)\n",
    "    ret = np.rint(ret)\n",
    "#     if(np.array_equal(ret,matrix)):\n",
    "#         print(\"Verified\")\n",
    "#     else:\n",
    "#         print(\"Error Occurred\")\n",
    "    return ret.astype(int)"
   ]
  },
  {
   "cell_type": "code",
   "execution_count": 12,
   "metadata": {
    "scrolled": true
   },
   "outputs": [
    {
     "name": "stdout",
     "output_type": "stream",
     "text": [
      "[[2. 0.]\n",
      " [0. 9.]]\n",
      "[[-0.70710678 -0.6       ]\n",
      " [ 0.70710678 -0.8       ]]\n",
      "[[-0.80812204  0.60609153]\n",
      " [-0.71428571 -0.71428571]]\n"
     ]
    },
    {
     "data": {
      "text/plain": [
       "array([[5, 3],\n",
       "       [4, 6]])"
      ]
     },
     "execution_count": 12,
     "metadata": {},
     "output_type": "execute_result"
    }
   ],
   "source": [
    "a = np.array([[5,3],[4,6]])\n",
    "values,vectors = find_eigen_decomposition(a)\n",
    "b = verify_eigen_decomposition(values,vectors)\n",
    "b"
   ]
  },
  {
   "cell_type": "code",
   "execution_count": 13,
   "metadata": {
    "deletable": false,
    "editable": false,
    "nbgrader": {
     "cell_type": "code",
     "checksum": "ecd71ed2c1d38f6f652e298608e4bf91",
     "grade": true,
     "grade_id": "cell-ca924fb2cbe495d7",
     "locked": true,
     "points": 1,
     "schema_version": 3,
     "solution": false,
     "task": false
    }
   },
   "outputs": [],
   "source": [
    "#DO NOT ALTER THIS CELL\n",
    "#HIDDEN TEST CASES FOR verify_eigen_decomposition\n"
   ]
  },
  {
   "cell_type": "markdown",
   "metadata": {
    "nbgrader": {
     "grade": false,
     "grade_id": "cell-dd8a48317889d004",
     "locked": false,
     "schema_version": 3,
     "solution": false,
     "task": false
    }
   },
   "source": [
    "## Principal Component Analysis\n",
    "Handling Dimensions is very important in Machine Leanring. The dimensions are all the features of the dataset. For instance, if you are looking at a dataset containing pieces of music, dimensions could be the genre, the length of the piece, the number of instruments, the presence of a singer etc. You can imagine all these dimensions as different columns. When there is only two dimensions, it is very convenient to plot: you can use the $x$ - and  $y$ -axis. Add color and you can represent a third dimension. It is similar if you have tens or hundereds of dimensions, it will just be harder to visualize it.\n",
    "\n",
    "When you have that many dimensions it happens that some of them are correlated. For instance, we can reasonably think that the genre dimension will correlate with the instruments dimensions in our previous example. One way to reduce dimensionality is simply to keep only some of them. The problem is that you loose good information. It would be nice to have a way to reduce these dimensions while keeping all the information present in the data set.\n",
    "\n",
    "The aim of principal components analysis (PCA) is generaly to reduce the number of dimensions of a dataset where dimensions are not completly decorelated. PCA provides us with a new set of dimensions, the principal components (PC).\n",
    "\n",
    "Step-wise PCA is:\n",
    "\n",
    "1) Center the data <br>\n",
    "2) Find the covariance matrix <br>\n",
    "3) Find the Eigen Decompostion <br>\n",
    "4) Choose the principal components <br>\n",
    "5) Find the new dataset Matrix <br>\n",
    "\n",
    "Following [article](https://towardsdatascience.com/a-one-stop-shop-for-principal-component-analysis-5582fb7e0a9c) also explains PCA very well.\n",
    "Let's implement PCA to get an essence of how dimensions can be reduced, you need to implement the function one by one!"
   ]
  },
  {
   "cell_type": "code",
   "execution_count": 14,
   "metadata": {
    "deletable": false,
    "editable": false,
    "nbgrader": {
     "cell_type": "code",
     "checksum": "5e1c040db26dd75c1b0179c45eb4d9b9",
     "grade": false,
     "grade_id": "cell-50d014c7204eab60",
     "locked": true,
     "schema_version": 3,
     "solution": false
    }
   },
   "outputs": [],
   "source": [
    "\n",
    "x = 5*np.random.rand(100)\n",
    "y = 2*x + 1 + np.random.randn(100)\n",
    "\n",
    "#the two dimensions of our dataset\n",
    "x = x.reshape(100, 1)\n",
    "y = y.reshape(100, 1)\n",
    "\n",
    "#The dataset matrix\n",
    "X = np.hstack([x, y])"
   ]
  },
  {
   "cell_type": "code",
   "execution_count": 15,
   "metadata": {
    "deletable": false,
    "editable": false,
    "nbgrader": {
     "cell_type": "code",
     "checksum": "5a4ff28baf3be6d4e0807cce58e01139",
     "grade": false,
     "grade_id": "cell-7a4b70ccb4531995",
     "locked": true,
     "schema_version": 3,
     "solution": false,
     "task": false
    }
   },
   "outputs": [
    {
     "data": {
      "image/png": "[encoded data removed]",
      "text/plain": [
       "<Figure size 432x288 with 1 Axes>"
      ]
     },
     "metadata": {
      "needs_background": "light"
     },
     "output_type": "display_data"
    }
   ],
   "source": [
    "plt.plot(X[:,0],X[:,1],'.')\n",
    "plt.show()"
   ]
  },
  {
   "cell_type": "code",
   "execution_count": 16,
   "metadata": {},
   "outputs": [],
   "source": [
    "##is here the X contains only the features or the resultant dependent variable also."
   ]
  },
  {
   "cell_type": "code",
   "execution_count": 17,
   "metadata": {
    "deletable": false,
    "nbgrader": {
     "cell_type": "code",
     "checksum": "abe15e41d63dee280ad092c30fb473d8",
     "grade": false,
     "grade_id": "cell-4aace02eb82ebd5c",
     "locked": false,
     "schema_version": 3,
     "solution": true
    }
   },
   "outputs": [],
   "source": [
    "def center(X):\n",
    "    '''\n",
    "    function to center the data around the mean\n",
    "    modify the return value to return the modified matrix\n",
    "    '''\n",
    "    a = np.mean(X,axis=0)\n",
    "    #a = np.rint(a)\n",
    "    #a = a.astype(int)\n",
    "    X = X-a\n",
    "#     print(X)\n",
    "    return X\n",
    "#     raise NotImplementedError()"
   ]
  },
  {
   "cell_type": "code",
   "execution_count": 18,
   "metadata": {
    "deletable": false,
    "editable": false,
    "nbgrader": {
     "cell_type": "code",
     "checksum": "e93896f256cb6a27066e483567cc4d76",
     "grade": true,
     "grade_id": "cell-9e373b3dc8185259",
     "locked": true,
     "points": 1,
     "schema_version": 3,
     "solution": false,
     "task": false
    }
   },
   "outputs": [],
   "source": [
    "#DO NOT ALTER THIS CELL\n",
    "#HIDDEN TEST CASES FOR center\n"
   ]
  },
  {
   "cell_type": "code",
   "execution_count": 19,
   "metadata": {
    "deletable": false,
    "nbgrader": {
     "cell_type": "code",
     "checksum": "ac41b61dce69774d25b8d173170a0c54",
     "grade": false,
     "grade_id": "cell-f2ba4844ba63791f",
     "locked": false,
     "schema_version": 3,
     "solution": true
    }
   },
   "outputs": [],
   "source": [
    "def find_covariance_matrix(X):\n",
    "    '''\n",
    "    Find the covariance matrix of X\n",
    "    USE only the following formula for covariance: 1/M dot_product(transpose(X),X) where X is MxN\n",
    "    M is the number of observations and N is the number of features and X is column centered.\n",
    "    Return the final matrix\n",
    "    '''\n",
    "#     why is it using 1/M for covariance\n",
    "    (m,n) = X.shape\n",
    "    #print(m)\n",
    "    #print(n)\n",
    "    ret = np.dot(np.transpose(X),X) * (1/m)\n",
    "#     print(ret)\n",
    "    return ret\n",
    "#     raise NotImplementedError()"
   ]
  },
  {
   "cell_type": "code",
   "execution_count": 20,
   "metadata": {
    "deletable": false,
    "editable": false,
    "nbgrader": {
     "cell_type": "code",
     "checksum": "ee40481ac450156539c8728475a0ba7d",
     "grade": true,
     "grade_id": "cell-23455edbef9a7b84",
     "locked": true,
     "points": 1,
     "schema_version": 3,
     "solution": false,
     "task": false
    }
   },
   "outputs": [],
   "source": [
    "#DO NOT ALTER THIS CELL\n",
    "#HIDDEN TEST CASES FOR find_covariance_matrix\n"
   ]
  },
  {
   "cell_type": "markdown",
   "metadata": {
    "deletable": false,
    "editable": false,
    "nbgrader": {
     "cell_type": "markdown",
     "checksum": "cd402e4e6d41faa8bcd5f7f8a8946963",
     "grade": false,
     "grade_id": "cell-dabaa22556056316",
     "locked": true,
     "schema_version": 3,
     "solution": false
    }
   },
   "source": [
    "Now let's plot the centered data and the eigen vectors in the same figure"
   ]
  },
  {
   "cell_type": "code",
   "execution_count": 21,
   "metadata": {
    "deletable": false,
    "editable": false,
    "nbgrader": {
     "cell_type": "code",
     "checksum": "ca0ad2598f45eae9f8ae9ffca974c656",
     "grade": false,
     "grade_id": "cell-86b9c744415dd515",
     "locked": true,
     "schema_version": 3,
     "solution": false,
     "task": false
    }
   },
   "outputs": [
    {
     "data": {
      "image/png": "[encoded data removed]",
      "text/plain": [
       "<Figure size 432x288 with 1 Axes>"
      ]
     },
     "metadata": {
      "needs_background": "light"
     },
     "output_type": "display_data"
    }
   ],
   "source": [
    "# We will use the simulated X, the one we generated in one of the above cells\n",
    "X_centered = center(X)\n",
    "covariance = find_covariance_matrix(X_centered)\n",
    "eigenVals, eigenVecs = find_eigen_decomposition(covariance)\n",
    "\n",
    "plot_vectors(eigenVecs, ['red', 'blue'])\n",
    "plt.plot(X_centered[:,0], X_centered[:,1], '*')\n",
    "plt.xlim(-3, 3)\n",
    "plt.ylim(-3, 3)\n",
    "plt.show()"
   ]
  },
  {
   "cell_type": "code",
   "execution_count": 22,
   "metadata": {
    "deletable": false,
    "nbgrader": {
     "cell_type": "code",
     "checksum": "5120ee7bfb5d6787a4fd75141f6b9c0e",
     "grade": false,
     "grade_id": "cell-365c5fe2dd253c56",
     "locked": false,
     "schema_version": 3,
     "solution": true
    }
   },
   "outputs": [],
   "source": [
    "def two_dimensional_pca(X_centered, eigenValues, eigenVecs):\n",
    "    '''\n",
    "    using X_centered, eigenValues, eigenVecs as obtained above\n",
    "    apply pca on X_centered and chose the principal component\n",
    "    return the new matrix\n",
    "    '''\n",
    "    sorted_ids = eigenValues.argsort()[::-1]\n",
    "    eigenValues = eigenValues[sorted_ids[0]]\n",
    "    eigenVecs = eigenVecs[:,sorted_ids[0]]\n",
    "    return np.dot(X_centered,eigenVecs)"
   ]
  },
  {
   "cell_type": "code",
   "execution_count": 23,
   "metadata": {
    "deletable": false,
    "editable": false,
    "nbgrader": {
     "cell_type": "code",
     "checksum": "a3c3ec87ba2efe2ad8f0e89335e85cee",
     "grade": true,
     "grade_id": "cell-f8a28e82ea7c8e1d",
     "locked": true,
     "points": 1,
     "schema_version": 3,
     "solution": false
    }
   },
   "outputs": [],
   "source": [
    "#DO NOT ALTER THIS CELL\n",
    "#HIDDEN TEST CASES FOR two_dimensional_pca on the data X created in the above cells\n"
   ]
  },
  {
   "cell_type": "code",
   "execution_count": 24,
   "metadata": {},
   "outputs": [
    {
     "name": "stdout",
     "output_type": "stream",
     "text": [
      "(100, 2)\n",
      "<class 'numpy.ndarray'>\n",
      "(2, 2)\n"
     ]
    }
   ],
   "source": [
    "print(X_centered.shape)\n",
    "print(type(X_centered))\n",
    "print(eigenVecs.shape)"
   ]
  },
  {
   "cell_type": "code",
   "execution_count": 26,
   "metadata": {},
   "outputs": [],
   "source": [
    "a=two_dimensional_pca(X_centered,eigenVals,eigenVecs)\n",
    "# covariance = find_covariance_matrix(X_centered)\n",
    "# eigenVals, eigenVecs = find_eigen_decomposition(covariance)\n",
    "# print(a)\n",
    "# covariance = find_covariance_matrix(a)\n",
    "# eigenValues,eigenVectors  =find_eigen_decomposition(a)\n",
    "# plot_vectors(eigenVectors, ['red', 'blue'])\n",
    "\n",
    "# plt.plot(a[:,0], a[:,1], '*')\n",
    "# plt.xlim(-3, 3)\n",
    "# plt.ylim(-3, 3)\n",
    "# plt.show()\n",
    "# print(a)"
   ]
  },
  {
   "cell_type": "markdown",
   "metadata": {
    "deletable": false,
    "editable": false,
    "nbgrader": {
     "cell_type": "markdown",
     "checksum": "e349cf0eb519590263227486b4b820fd",
     "grade": false,
     "grade_id": "cell-bae36247dbb3680b",
     "locked": true,
     "schema_version": 3,
     "solution": false
    }
   },
   "source": [
    "**Inline Questions:** <br> \n",
    "1) Can you identify the color of the line which points to the direction of maximum variance? <br>\n",
    "2) Look at the Graph below and explain if PCA can be applied on this dataset or not? Do give reason. <br>\n",
    "3) Can you apply PCA to categorical variables? (Answer to this will give you hints for the next excercise)\n",
    "\n",
    "![Plot](images/pca_inline.png)"
   ]
  },
  {
   "cell_type": "markdown",
   "metadata": {
    "deletable": false,
    "editable": false,
    "nbgrader": {
     "cell_type": "markdown",
     "checksum": "71f5d795ba1e0c5fcae215a1bd3e8f3e",
     "grade": false,
     "grade_id": "cell-67cd484a33c21216",
     "locked": true,
     "points": 1,
     "schema_version": 3,
     "solution": false,
     "task": true
    }
   },
   "source": [
    "Answers:"
   ]
  },
  {
   "cell_type": "markdown",
   "metadata": {},
   "source": [
    "1. The red color line represents the direction of maximum variance\n",
    "2. PCA can't be applied here because the all the components have nearly equal variance and selecting top K out of them will not provide any good compression and will also lead to losing of significant info from data.\n",
    "3. Yes, it can be applied but PCA is well-suited for continous data, and categorical variables (by representing them as one-hot encoding) are thus,approximated to apply PCA. "
   ]
  },
  {
   "cell_type": "markdown",
   "metadata": {},
   "source": [
    "## PCA on a large dataset\n",
    "## About Dataset:\n",
    "Task: Reducing the dimesions for predicting house prices.\n",
    "The dataset is stored in the file **'data_pca.csv'**, it has 15 numerical columns and 2 categorical columns (columns are labeled as $X0$....$X16$), in an imaginary world, all these columns have certain significance towards prediciton of final house prices. Your task is simple, apply PCA to reduce the number of dimensions. \n",
    "\n",
    "Now implement the following functions for getting the final dataset with reduced dimensions. Keep the top $k (k=0...10)$ principal components."
   ]
  },
  {
   "cell_type": "code",
   "execution_count": 27,
   "metadata": {
    "deletable": false,
    "nbgrader": {
     "cell_type": "code",
     "checksum": "7ae882beb26b978293b685a386a4ff59",
     "grade": false,
     "grade_id": "cell-b2744694d03e082f",
     "locked": false,
     "schema_version": 3,
     "solution": true,
     "task": false
    }
   },
   "outputs": [],
   "source": [
    "def read_data(name):\n",
    "    '''\n",
    "    read the CSV file and return the corresponding dataframe\n",
    "    don't forget to remove the index column (check the name properly)\n",
    "    '''\n",
    "    \n",
    "    ret = pd.read_csv(name)\n",
    "    t = ret.columns\n",
    "#     print(list(range(ret.shape[0])))\n",
    "    if ret[t[0]].to_list() == list(range(ret.shape[0])):\n",
    "#         index col is present\n",
    "        ret.drop(t[0],inplace = True,axis = 1)\n",
    "    return ret\n",
    "#     raise NotImplementedError()"
   ]
  },
  {
   "cell_type": "code",
   "execution_count": 28,
   "metadata": {
    "deletable": false,
    "editable": false,
    "nbgrader": {
     "cell_type": "code",
     "checksum": "7b3d094409d62a877c7bf077e9cf42a8",
     "grade": true,
     "grade_id": "cell-7c4fe4ab88e97f99",
     "locked": true,
     "points": 1,
     "schema_version": 3,
     "solution": false
    }
   },
   "outputs": [],
   "source": [
    "#input the path top the CSV file\n",
    "#DO NOT ALTER THIS CELL\n",
    "#HIDDEN TEST CASES FOR read_data\n",
    "\n",
    "PATH_TO_CSV_FILE = './data_pca.csv'"
   ]
  },
  {
   "cell_type": "code",
   "execution_count": 29,
   "metadata": {},
   "outputs": [],
   "source": [
    "# read_data(PATH_TO_CSV_FILE)"
   ]
  },
  {
   "cell_type": "code",
   "execution_count": 30,
   "metadata": {
    "deletable": false,
    "nbgrader": {
     "cell_type": "code",
     "checksum": "753b8c8eddf09d81d8cf9890b402cd3e",
     "grade": false,
     "grade_id": "cell-b944aaa1481e4ea8",
     "locked": false,
     "schema_version": 3,
     "solution": true
    }
   },
   "outputs": [],
   "source": [
    "def apply_pca(data,k):\n",
    "    '''\n",
    "    data: a pandas data frame\n",
    "    Implement PCA on the dataset and return the transformed dataset as a pandas dataframe\n",
    "    keep k pricipal components\n",
    "    remember the dataset MUST have the chosen components and the columns you decide to exclude \n",
    "    from PCA calculation.\n",
    "    The returned dataframe should NOT have the index column\n",
    "    The returned dataframe should have similar column names as original and must be in the \n",
    "    SAME ORDER as in the original data, example : if X0 and X1 are chosen then X0 must appear\n",
    "    appear before X1 in the returned frame as it appears before in the original frame as well.\n",
    "    \n",
    "    Try to verify the function on your own :)\n",
    "    '''\n",
    "    col = list(data.columns)\n",
    "    \n",
    "    dat = data.to_numpy() \n",
    "    X_centered = center(dat)\n",
    "    covariance = find_covariance_matrix(X_centered)\n",
    "    eigenVals, eigenVecs = find_eigen_decomposition(covariance)\n",
    "    sorted_ids = eigenVals.argsort()[::-1]\n",
    "#     selected top K principal component\n",
    "    sorted_ids = sorted_ids[:k]\n",
    "#     preserved their order\n",
    "    sorted_ids = sorted(sorted_ids)\n",
    "    column=[]\n",
    "    for i in sorted_ids:\n",
    "        column.append(col[i])\n",
    "    eigenVals = eigenVals[sorted_ids]\n",
    "    eigenVecs = eigenVecs[:,sorted_ids]\n",
    "    ret =  np.dot(X_centered,eigenVecs)\n",
    "    ret = ret[:,:k]\n",
    "    column = column[:k]\n",
    "#     complex part is dropped\n",
    "    df = pd.DataFrame(data=ret.real,columns=column)\n",
    "    return df"
   ]
  },
  {
   "cell_type": "code",
   "execution_count": 31,
   "metadata": {
    "deletable": false,
    "editable": false,
    "nbgrader": {
     "cell_type": "code",
     "checksum": "a03243ecad946cc792eaeaf6759cd40e",
     "grade": true,
     "grade_id": "cell-4db7e2b7485907b8",
     "locked": true,
     "points": 4,
     "schema_version": 3,
     "solution": false
    }
   },
   "outputs": [],
   "source": [
    "PATH_TO_CSV_FILE = './data_pca.csv'\n",
    "data = pd.read_csv(PATH_TO_CSV_FILE)\n",
    "#DO NOT ALTER THIS CELL\n",
    "#HIDDEN TEST CASES FOR apply_pca"
   ]
  },
  {
   "cell_type": "code",
   "execution_count": 32,
   "metadata": {},
   "outputs": [
    {
     "data": {
      "text/html": [
       "<div>\n",
       "<style scoped>\n",
       "    .dataframe tbody tr th:only-of-type {\n",
       "        vertical-align: middle;\n",
       "    }\n",
       "\n",
       "    .dataframe tbody tr th {\n",
       "        vertical-align: top;\n",
       "    }\n",
       "\n",
       "    .dataframe thead th {\n",
       "        text-align: right;\n",
       "    }\n",
       "</style>\n",
       "<table border=\"1\" class=\"dataframe\">\n",
       "  <thead>\n",
       "    <tr style=\"text-align: right;\">\n",
       "      <th></th>\n",
       "      <th>X0</th>\n",
       "      <th>X1</th>\n",
       "      <th>X2</th>\n",
       "      <th>X3</th>\n",
       "      <th>X4</th>\n",
       "      <th>X5</th>\n",
       "      <th>X6</th>\n",
       "      <th>X7</th>\n",
       "      <th>X8</th>\n",
       "      <th>X9</th>\n",
       "      <th>X10</th>\n",
       "      <th>X11</th>\n",
       "      <th>X12</th>\n",
       "      <th>X13</th>\n",
       "      <th>X14</th>\n",
       "    </tr>\n",
       "  </thead>\n",
       "  <tbody>\n",
       "    <tr>\n",
       "      <th>0</th>\n",
       "      <td>-2.616363</td>\n",
       "      <td>0.039585</td>\n",
       "      <td>-3.849088</td>\n",
       "      <td>4.094249</td>\n",
       "      <td>2.297026</td>\n",
       "      <td>1.358340</td>\n",
       "      <td>2.849127</td>\n",
       "      <td>21.571247</td>\n",
       "      <td>-23.683587</td>\n",
       "      <td>-1.839739</td>\n",
       "      <td>-2.468359</td>\n",
       "      <td>-21.639302</td>\n",
       "      <td>-3.662757</td>\n",
       "      <td>1.010479</td>\n",
       "      <td>36.641045</td>\n",
       "    </tr>\n",
       "    <tr>\n",
       "      <th>1</th>\n",
       "      <td>0.662079</td>\n",
       "      <td>4.793876</td>\n",
       "      <td>5.986238</td>\n",
       "      <td>-1.034872</td>\n",
       "      <td>1.857994</td>\n",
       "      <td>20.375504</td>\n",
       "      <td>-0.714749</td>\n",
       "      <td>-4.074362</td>\n",
       "      <td>-1.366586</td>\n",
       "      <td>0.172296</td>\n",
       "      <td>-0.236659</td>\n",
       "      <td>13.170470</td>\n",
       "      <td>1.310067</td>\n",
       "      <td>3.638412</td>\n",
       "      <td>44.689183</td>\n",
       "    </tr>\n",
       "    <tr>\n",
       "      <th>2</th>\n",
       "      <td>-0.463839</td>\n",
       "      <td>2.748368</td>\n",
       "      <td>2.608482</td>\n",
       "      <td>0.150377</td>\n",
       "      <td>2.756932</td>\n",
       "      <td>12.193470</td>\n",
       "      <td>5.931404</td>\n",
       "      <td>1.851884</td>\n",
       "      <td>10.131804</td>\n",
       "      <td>3.551578</td>\n",
       "      <td>0.913180</td>\n",
       "      <td>-9.101699</td>\n",
       "      <td>-1.871671</td>\n",
       "      <td>1.062186</td>\n",
       "      <td>58.206310</td>\n",
       "    </tr>\n",
       "    <tr>\n",
       "      <th>3</th>\n",
       "      <td>0.646008</td>\n",
       "      <td>4.214396</td>\n",
       "      <td>5.938025</td>\n",
       "      <td>2.780892</td>\n",
       "      <td>6.823143</td>\n",
       "      <td>18.057585</td>\n",
       "      <td>-3.576123</td>\n",
       "      <td>15.004459</td>\n",
       "      <td>41.225736</td>\n",
       "      <td>-3.833307</td>\n",
       "      <td>4.022574</td>\n",
       "      <td>-6.526670</td>\n",
       "      <td>-1.503810</td>\n",
       "      <td>-1.088758</td>\n",
       "      <td>28.666774</td>\n",
       "    </tr>\n",
       "    <tr>\n",
       "      <th>4</th>\n",
       "      <td>-3.921623</td>\n",
       "      <td>1.739375</td>\n",
       "      <td>-7.764870</td>\n",
       "      <td>5.287779</td>\n",
       "      <td>1.468350</td>\n",
       "      <td>8.157499</td>\n",
       "      <td>-2.837423</td>\n",
       "      <td>27.538893</td>\n",
       "      <td>-31.736717</td>\n",
       "      <td>1.724579</td>\n",
       "      <td>-3.273672</td>\n",
       "      <td>12.075537</td>\n",
       "      <td>1.153648</td>\n",
       "      <td>-4.303266</td>\n",
       "      <td>50.898315</td>\n",
       "    </tr>\n",
       "  </tbody>\n",
       "</table>\n",
       "</div>"
      ],
      "text/plain": [
       "         X0        X1        X2        X3        X4         X5        X6  \\\n",
       "0 -2.616363  0.039585 -3.849088  4.094249  2.297026   1.358340  2.849127   \n",
       "1  0.662079  4.793876  5.986238 -1.034872  1.857994  20.375504 -0.714749   \n",
       "2 -0.463839  2.748368  2.608482  0.150377  2.756932  12.193470  5.931404   \n",
       "3  0.646008  4.214396  5.938025  2.780892  6.823143  18.057585 -3.576123   \n",
       "4 -3.921623  1.739375 -7.764870  5.287779  1.468350   8.157499 -2.837423   \n",
       "\n",
       "          X7         X8        X9       X10        X11       X12       X13  \\\n",
       "0  21.571247 -23.683587 -1.839739 -2.468359 -21.639302 -3.662757  1.010479   \n",
       "1  -4.074362  -1.366586  0.172296 -0.236659  13.170470  1.310067  3.638412   \n",
       "2   1.851884  10.131804  3.551578  0.913180  -9.101699 -1.871671  1.062186   \n",
       "3  15.004459  41.225736 -3.833307  4.022574  -6.526670 -1.503810 -1.088758   \n",
       "4  27.538893 -31.736717  1.724579 -3.273672  12.075537  1.153648 -4.303266   \n",
       "\n",
       "         X14  \n",
       "0  36.641045  \n",
       "1  44.689183  \n",
       "2  58.206310  \n",
       "3  28.666774  \n",
       "4  50.898315  "
      ]
     },
     "execution_count": 32,
     "metadata": {},
     "output_type": "execute_result"
    }
   ],
   "source": [
    "df = data.drop(['X16','Unnamed: 0','price','X15'],axis = 1,inplace = False)\n",
    "df.head()"
   ]
  },
  {
   "cell_type": "code",
   "execution_count": 34,
   "metadata": {},
   "outputs": [
    {
     "data": {
      "text/html": [
       "<div>\n",
       "<style scoped>\n",
       "    .dataframe tbody tr th:only-of-type {\n",
       "        vertical-align: middle;\n",
       "    }\n",
       "\n",
       "    .dataframe tbody tr th {\n",
       "        vertical-align: top;\n",
       "    }\n",
       "\n",
       "    .dataframe thead th {\n",
       "        text-align: right;\n",
       "    }\n",
       "</style>\n",
       "<table border=\"1\" class=\"dataframe\">\n",
       "  <thead>\n",
       "    <tr style=\"text-align: right;\">\n",
       "      <th></th>\n",
       "      <th>X0</th>\n",
       "      <th>X1</th>\n",
       "      <th>X2</th>\n",
       "      <th>X3</th>\n",
       "      <th>X4</th>\n",
       "    </tr>\n",
       "  </thead>\n",
       "  <tbody>\n",
       "    <tr>\n",
       "      <th>0</th>\n",
       "      <td>-20.093701</td>\n",
       "      <td>-25.605597</td>\n",
       "      <td>-24.815538</td>\n",
       "      <td>-0.784914</td>\n",
       "      <td>4.685567</td>\n",
       "    </tr>\n",
       "    <tr>\n",
       "      <th>1</th>\n",
       "      <td>2.420443</td>\n",
       "      <td>9.488020</td>\n",
       "      <td>-1.440947</td>\n",
       "      <td>6.108520</td>\n",
       "      <td>-20.479804</td>\n",
       "    </tr>\n",
       "    <tr>\n",
       "      <th>2</th>\n",
       "      <td>9.714380</td>\n",
       "      <td>-12.755588</td>\n",
       "      <td>3.701177</td>\n",
       "      <td>-11.049287</td>\n",
       "      <td>-14.897816</td>\n",
       "    </tr>\n",
       "    <tr>\n",
       "      <th>3</th>\n",
       "      <td>43.653954</td>\n",
       "      <td>-20.826142</td>\n",
       "      <td>-3.558104</td>\n",
       "      <td>16.463925</td>\n",
       "      <td>-7.997128</td>\n",
       "    </tr>\n",
       "    <tr>\n",
       "      <th>4</th>\n",
       "      <td>-18.525385</td>\n",
       "      <td>8.678197</td>\n",
       "      <td>-37.487504</td>\n",
       "      <td>-10.705128</td>\n",
       "      <td>-3.730631</td>\n",
       "    </tr>\n",
       "  </tbody>\n",
       "</table>\n",
       "</div>"
      ],
      "text/plain": [
       "          X0         X1         X2         X3         X4\n",
       "0 -20.093701 -25.605597 -24.815538  -0.784914   4.685567\n",
       "1   2.420443   9.488020  -1.440947   6.108520 -20.479804\n",
       "2   9.714380 -12.755588   3.701177 -11.049287 -14.897816\n",
       "3  43.653954 -20.826142  -3.558104  16.463925  -7.997128\n",
       "4 -18.525385   8.678197 -37.487504 -10.705128  -3.730631"
      ]
     },
     "execution_count": 34,
     "metadata": {},
     "output_type": "execute_result"
    }
   ],
   "source": [
    "pca = apply_pca(df,5)\n",
    "pca.head()"
   ]
  },
  {
   "cell_type": "code",
   "execution_count": null,
   "metadata": {},
   "outputs": [],
   "source": []
  }
 ],
 "metadata": {
  "kernelspec": {
   "display_name": "Python 3",
   "language": "python",
   "name": "python3"
  },
  "language_info": {
   "codemirror_mode": {
    "name": "ipython",
    "version": 3
   },
   "file_extension": ".py",
   "mimetype": "text/x-python",
   "name": "python",
   "nbconvert_exporter": "python",
   "pygments_lexer": "ipython3",
   "version": "3.6.9"
  }
 },
 "nbformat": 4,
 "nbformat_minor": 4
}
